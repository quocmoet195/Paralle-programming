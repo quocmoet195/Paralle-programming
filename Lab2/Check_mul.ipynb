{
  "cells": [
    {
      "cell_type": "code",
      "execution_count": 16,
      "metadata": {
        "id": "3GSKrTLQ1u9o"
      },
      "outputs": [],
      "source": [
        "import numpy as np\n",
        "import pandas as pd\n",
        "import matplotlib.pyplot as plt"
      ]
    },
    {
      "cell_type": "code",
      "execution_count": 17,
      "metadata": {
        "colab": {
          "base_uri": "https://localhost:8080/"
        },
        "id": "eHYpwFGd12yl",
        "outputId": "bcf045ca-b7ce-437b-e9f3-730f08bcd3ea"
      },
      "outputs": [],
      "source": [
        "def checkMultiMatrices(path1,path2,path_out):\n",
        "    A = np.loadtxt(path1)\n",
        "    B = np.loadtxt(path2)\n",
        "    C = np.dot(A, B)\n",
        "    C1 = np.loadtxt(path_out)\n",
        "    if len(C) != len(C1) or len(C[0]) != len(C1[0]):\n",
        "        print(\"The matrices have different dimensions.\")\n",
        "        return\n",
        "\n",
        "    are_equal = True\n",
        "    for i in range(len(C)):\n",
        "        for j in range(len(C[0])):\n",
        "            if abs(C[i][j] - C1[i][j]) > 0.0001: \n",
        "                are_equal = False\n",
        "                break\n",
        "        if not are_equal:\n",
        "            break\n",
        "\n",
        "    if are_equal:\n",
        "        print(\"The matrices are equal.\")\n",
        "    else:\n",
        "        print(\"The matrices are not equal.\")"
      ]
    },
    {
      "cell_type": "code",
      "execution_count": 18,
      "metadata": {},
      "outputs": [
        {
          "name": "stdout",
          "output_type": "stream",
          "text": [
            "The matrices are equal.\n"
          ]
        }
      ],
      "source": [
        "checkMultiMatrices('Matrix_1/matrix1_10.txt', 'Matrix_2/matrix2_10.txt','Output/output_10.txt')"
      ]
    },
    {
      "cell_type": "code",
      "execution_count": 19,
      "metadata": {},
      "outputs": [
        {
          "name": "stdout",
          "output_type": "stream",
          "text": [
            "The matrices are equal.\n"
          ]
        }
      ],
      "source": [
        "checkMultiMatrices('Matrix_1/matrix1_20.txt', 'Matrix_2/matrix2_20.txt','Output/output_20.txt')"
      ]
    },
    {
      "cell_type": "code",
      "execution_count": 20,
      "metadata": {},
      "outputs": [
        {
          "name": "stdout",
          "output_type": "stream",
          "text": [
            "The matrices are equal.\n"
          ]
        }
      ],
      "source": [
        "checkMultiMatrices('Matrix_1/matrix1_30.txt', 'Matrix_2/matrix2_30.txt','Output/output_30.txt')"
      ]
    },
    {
      "cell_type": "code",
      "execution_count": 21,
      "metadata": {},
      "outputs": [
        {
          "name": "stdout",
          "output_type": "stream",
          "text": [
            "The matrices are equal.\n"
          ]
        }
      ],
      "source": [
        "checkMultiMatrices('Matrix_1/matrix1_40.txt', 'Matrix_2/matrix2_40.txt','Output/output_40.txt')"
      ]
    },
    {
      "cell_type": "code",
      "execution_count": 22,
      "metadata": {},
      "outputs": [
        {
          "name": "stdout",
          "output_type": "stream",
          "text": [
            "The matrices are equal.\n"
          ]
        }
      ],
      "source": [
        "checkMultiMatrices('Matrix_1/matrix1_50.txt', 'Matrix_2/matrix2_50.txt','Output/output_50.txt')"
      ]
    },
    {
      "cell_type": "code",
      "execution_count": 23,
      "metadata": {},
      "outputs": [
        {
          "name": "stdout",
          "output_type": "stream",
          "text": [
            "The matrices are equal.\n"
          ]
        }
      ],
      "source": [
        "checkMultiMatrices('Matrix_1/matrix1_60.txt', 'Matrix_2/matrix2_60.txt','Output/output_60.txt')"
      ]
    },
    {
      "cell_type": "code",
      "execution_count": 24,
      "metadata": {},
      "outputs": [
        {
          "name": "stdout",
          "output_type": "stream",
          "text": [
            "The matrices are equal.\n"
          ]
        }
      ],
      "source": [
        "checkMultiMatrices('Matrix_1/matrix1_70.txt', 'Matrix_2/matrix2_70.txt','Output/output_70.txt')"
      ]
    },
    {
      "cell_type": "code",
      "execution_count": 25,
      "metadata": {},
      "outputs": [
        {
          "name": "stdout",
          "output_type": "stream",
          "text": [
            "The matrices are equal.\n"
          ]
        }
      ],
      "source": [
        "checkMultiMatrices('Matrix_1/matrix1_80.txt', 'Matrix_2/matrix2_80.txt','Output/output_80.txt')"
      ]
    },
    {
      "cell_type": "code",
      "execution_count": 26,
      "metadata": {},
      "outputs": [
        {
          "name": "stdout",
          "output_type": "stream",
          "text": [
            "The matrices are equal.\n"
          ]
        }
      ],
      "source": [
        "checkMultiMatrices('Matrix_1/matrix1_90.txt', 'Matrix_2/matrix2_90.txt','Output/output_90.txt')"
      ]
    },
    {
      "cell_type": "code",
      "execution_count": 27,
      "metadata": {},
      "outputs": [
        {
          "name": "stdout",
          "output_type": "stream",
          "text": [
            "The matrices are equal.\n"
          ]
        }
      ],
      "source": [
        "checkMultiMatrices('Matrix_1/matrix1_100.txt', 'Matrix_2/matrix2_100.txt','Output/output_100.txt')"
      ]
    },
    {
      "cell_type": "code",
      "execution_count": 28,
      "metadata": {},
      "outputs": [
        {
          "name": "stdout",
          "output_type": "stream",
          "text": [
            "The matrices are equal.\n"
          ]
        }
      ],
      "source": [
        "checkMultiMatrices('Matrix_1/matrix1_1000.txt', 'Matrix_2/matrix2_1000.txt','Output/output_1000.txt')"
      ]
    },
    {
      "cell_type": "code",
      "execution_count": 34,
      "metadata": {},
      "outputs": [
        {
          "name": "stdout",
          "output_type": "stream",
          "text": [
            "    Размер  Последовательная версия  Параллельная версия\n",
            "0       10                   1749.0               7187.0\n",
            "1       20                   4516.0              15787.0\n",
            "2       30                   8214.0              35166.0\n",
            "3       40                  15606.0              27262.0\n",
            "4       50                  15537.0              63985.0\n",
            "5       60                  21431.0              65678.0\n",
            "6       70                  37093.0              61749.0\n",
            "7       80                  39267.0              73055.0\n",
            "8       90                  50087.0              79052.0\n",
            "9      100                 170699.0              94761.0\n",
            "10    1000               41459460.0           21496621.0\n"
          ]
        }
      ],
      "source": [
        "times_dot = list(np.genfromtxt(\"times.txt\", delimiter=\",\"))\n",
        "times_OMP = list(np.genfromtxt(\"times_openmp.txt\", delimiter=\",\"))\n",
        "sizes_mat = [10, 20, 30, 40, 50, 60, 70, 80, 90, 100, 1000]\n",
        "\n",
        "data = {'Размер': sizes_mat, 'Последовательная версия': times_dot, 'Параллельная версия': times_OMP}\n",
        "df = pd.DataFrame(data)\n",
        "\n",
        "print(df)"
      ]
    },
    {
      "cell_type": "code",
      "execution_count": 29,
      "metadata": {},
      "outputs": [
        {
          "data": {
            "image/png": "[encoded data removed]",
            "text/plain": [
              "<Figure size 700x1000 with 1 Axes>"
            ]
          },
          "metadata": {},
          "output_type": "display_data"
        }
      ],
      "source": [
        "times_dot = list(np.genfromtxt(\"times_openmp.txt\", delimiter=\",\"))\n",
        "sizes_mat = [10, 20, 30, 40, 50, 60, 70, 80, 90, 100, 1000]\n",
        "\n",
        "plt.figure(figsize=(7, 10))\n",
        "plt.plot(sizes_mat, times_dot, marker='o', linestyle='-')\n",
        "plt.title('Зависимость размера матрицы и времени выполнения')\n",
        "plt.xlabel('Размер матрицы')\n",
        "plt.ylabel('Время выполнения (микросекунда)')\n",
        "\n",
        "plt.xticks(sizes_mat)\n",
        "plt.yticks([int(t) for t in times_dot])\n",
        "plt.tick_params(axis='y', labelleft=True)\n",
        "for size, time in zip(sizes_mat, times_dot):\n",
        "    plt.text(size, time, f'{time:.2f}', fontsize=8, ha='left', va='bottom')\n",
        "plt.show()\n"
      ]
    }
  ],
  "metadata": {
    "colab": {
      "provenance": []
    },
    "kernelspec": {
      "display_name": "Python 3",
      "name": "python3"
    },
    "language_info": {
      "codemirror_mode": {
        "name": "ipython",
        "version": 3
      },
      "file_extension": ".py",
      "mimetype": "text/x-python",
      "name": "python",
      "nbconvert_exporter": "python",
      "pygments_lexer": "ipython3",
      "version": "3.11.9"
    }
  },
  "nbformat": 4,
  "nbformat_minor": 0
}

{
  "cells": [
    {
      "cell_type": "code",
      "execution_count": 90,
      "metadata": {
        "id": "3GSKrTLQ1u9o"
      },
      "outputs": [],
      "source": [
        "import numpy as np\n",
        "import pandas as pd\n",
        "import matplotlib.pyplot as plt"
      ]
    },
    {
      "cell_type": "code",
      "execution_count": 91,
      "metadata": {
        "colab": {
          "base_uri": "https://localhost:8080/"
        },
        "id": "eHYpwFGd12yl",
        "outputId": "bcf045ca-b7ce-437b-e9f3-730f08bcd3ea"
      },
      "outputs": [],
      "source": [
        "def checkMultiMatrices(path1,path2,path_out):\n",
        "    A = np.loadtxt(path1)\n",
        "    B = np.loadtxt(path2)\n",
        "    C = np.dot(A, B)\n",
        "    C1 = np.loadtxt(path_out)\n",
        "    if len(C) != len(C1) or len(C[0]) != len(C1[0]):\n",
        "        print(\"The matrices have different dimensions.\")\n",
        "        return\n",
        "\n",
        "    are_equal = True\n",
        "    for i in range(len(C)):\n",
        "        for j in range(len(C[0])):\n",
        "            if abs(C[i][j] - C1[i][j]) > 1e-5: \n",
        "                are_equal = False\n",
        "                break\n",
        "        if not are_equal:\n",
        "            break\n",
        "\n",
        "    if are_equal:\n",
        "        print(\"The matrices are equal.\")\n",
        "    else:\n",
        "        print(\"The matrices are not equal.\")"
      ]
    },
    {
      "cell_type": "code",
      "execution_count": 92,
      "metadata": {},
      "outputs": [
        {
          "name": "stdout",
          "output_type": "stream",
          "text": [
            "The matrices are equal.\n"
          ]
        }
      ],
      "source": [
        "checkMultiMatrices('Matrix_1/matrix1_10.txt', 'Matrix_2/matrix2_10.txt','Output/output_10.txt')"
      ]
    },
    {
      "cell_type": "code",
      "execution_count": 93,
      "metadata": {},
      "outputs": [
        {
          "name": "stdout",
          "output_type": "stream",
          "text": [
            "The matrices are equal.\n"
          ]
        }
      ],
      "source": [
        "checkMultiMatrices('Matrix_1/matrix1_20.txt', 'Matrix_2/matrix2_20.txt','Output/output_20.txt')"
      ]
    },
    {
      "cell_type": "code",
      "execution_count": 94,
      "metadata": {},
      "outputs": [
        {
          "name": "stdout",
          "output_type": "stream",
          "text": [
            "The matrices are equal.\n"
          ]
        }
      ],
      "source": [
        "checkMultiMatrices('Matrix_1/matrix1_30.txt', 'Matrix_2/matrix2_30.txt','Output/output_30.txt')"
      ]
    },
    {
      "cell_type": "code",
      "execution_count": 95,
      "metadata": {},
      "outputs": [
        {
          "name": "stdout",
          "output_type": "stream",
          "text": [
            "The matrices are equal.\n"
          ]
        }
      ],
      "source": [
        "checkMultiMatrices('Matrix_1/matrix1_40.txt', 'Matrix_2/matrix2_40.txt','Output/output_40.txt')"
      ]
    },
    {
      "cell_type": "code",
      "execution_count": 96,
      "metadata": {},
      "outputs": [
        {
          "name": "stdout",
          "output_type": "stream",
          "text": [
            "The matrices are equal.\n"
          ]
        }
      ],
      "source": [
        "checkMultiMatrices('Matrix_1/matrix1_50.txt', 'Matrix_2/matrix2_50.txt','Output/output_50.txt')"
      ]
    },
    {
      "cell_type": "code",
      "execution_count": 97,
      "metadata": {},
      "outputs": [
        {
          "name": "stdout",
          "output_type": "stream",
          "text": [
            "The matrices are equal.\n"
          ]
        }
      ],
      "source": [
        "checkMultiMatrices('Matrix_1/matrix1_60.txt', 'Matrix_2/matrix2_60.txt','Output/output_60.txt')"
      ]
    },
    {
      "cell_type": "code",
      "execution_count": 98,
      "metadata": {},
      "outputs": [
        {
          "name": "stdout",
          "output_type": "stream",
          "text": [
            "The matrices are equal.\n"
          ]
        }
      ],
      "source": [
        "checkMultiMatrices('Matrix_1/matrix1_70.txt', 'Matrix_2/matrix2_70.txt','Output/output_70.txt')"
      ]
    },
    {
      "cell_type": "code",
      "execution_count": 99,
      "metadata": {},
      "outputs": [
        {
          "name": "stdout",
          "output_type": "stream",
          "text": [
            "The matrices are equal.\n"
          ]
        }
      ],
      "source": [
        "checkMultiMatrices('Matrix_1/matrix1_80.txt', 'Matrix_2/matrix2_80.txt','Output/output_80.txt')"
      ]
    },
    {
      "cell_type": "code",
      "execution_count": 100,
      "metadata": {},
      "outputs": [
        {
          "name": "stdout",
          "output_type": "stream",
          "text": [
            "The matrices are equal.\n"
          ]
        }
      ],
      "source": [
        "checkMultiMatrices('Matrix_1/matrix1_90.txt', 'Matrix_2/matrix2_90.txt','Output/output_90.txt')"
      ]
    },
    {
      "cell_type": "code",
      "execution_count": 101,
      "metadata": {},
      "outputs": [
        {
          "name": "stdout",
          "output_type": "stream",
          "text": [
            "The matrices are equal.\n"
          ]
        }
      ],
      "source": [
        "checkMultiMatrices('Matrix_1/matrix1_100.txt', 'Matrix_2/matrix2_100.txt','Output/output_100.txt')"
      ]
    }
  ],
  "metadata": {
    "colab": {
      "provenance": []
    },
    "kernelspec": {
      "display_name": "Python 3",
      "name": "python3"
    },
    "language_info": {
      "codemirror_mode": {
        "name": "ipython",
        "version": 3
      },
      "file_extension": ".py",
      "mimetype": "text/x-python",
      "name": "python",
      "nbconvert_exporter": "python",
      "pygments_lexer": "ipython3",
      "version": "3.11.9"
    }
  },
  "nbformat": 4,
  "nbformat_minor": 0
}
